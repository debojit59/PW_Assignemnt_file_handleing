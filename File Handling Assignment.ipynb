{
 "cells": [
  {
   "cell_type": "code",
   "execution_count": 3,
   "id": "b345106c-331a-4308-a5fb-69309f26aa7e",
   "metadata": {},
   "outputs": [],
   "source": [
    "# How can you open a file for writing in Python and write a string to it"
   ]
  },
  {
   "cell_type": "code",
   "execution_count": 5,
   "id": "54cf4b80-3876-48c0-a8c8-f5c18153480a",
   "metadata": {},
   "outputs": [],
   "source": [
    "file_name=\"Test_file\"+\".txt\"\n",
    "file=open(file_name,\"w\")\n",
    "file.write(\"My Name is Debojit\")\n",
    "file.close()\n"
   ]
  },
  {
   "cell_type": "code",
   "execution_count": 9,
   "id": "d7886dc3-a69f-404e-89e3-13bf30c64894",
   "metadata": {},
   "outputs": [
    {
     "data": {
      "text/plain": [
       "['My Name is Debojit']"
      ]
     },
     "execution_count": 9,
     "metadata": {},
     "output_type": "execute_result"
    }
   ],
   "source": [
    "file=open(file_name,\"r\")\n",
    "file.readlines()"
   ]
  },
  {
   "cell_type": "code",
   "execution_count": 10,
   "id": "10fdf7c5-9cc0-45ba-aea3-fba5339baf60",
   "metadata": {},
   "outputs": [],
   "source": [
    "#Write a Python program to read the contents of a file and print each li"
   ]
  },
  {
   "cell_type": "code",
   "execution_count": 18,
   "id": "6cf8cd65-dee0-4270-9eb5-09699bc2868f",
   "metadata": {},
   "outputs": [
    {
     "name": "stdout",
     "output_type": "stream",
     "text": [
      " My Name is Debojit.\n",
      "\n",
      " My name is Don. \n",
      "\n",
      " My name is Khan\n"
     ]
    }
   ],
   "source": [
    "file_name=\"Test_file\"+\".txt\"\n",
    "file=open(file_name,\"w\")\n",
    "file.write(\" My Name is Debojit.\\n\"\n",
    "          \" My name is Don. \\n\"\n",
    "        \" My name is Khan\")\n",
    "file.close()\n",
    "file=open(file_name,\"r\")\n",
    "for read in file:\n",
    "    print(read)"
   ]
  },
  {
   "cell_type": "code",
   "execution_count": 23,
   "id": "ebb1418d-84ce-4bf9-8ff9-96be2cbf431f",
   "metadata": {},
   "outputs": [],
   "source": [
    "#How would you handle a case where the file doesn't exist while trying to open it for reading\u001f"
   ]
  },
  {
   "cell_type": "code",
   "execution_count": 24,
   "id": "72a957ee-f03f-42b1-83bb-af4613c41cad",
   "metadata": {},
   "outputs": [
    {
     "name": "stdout",
     "output_type": "stream",
     "text": [
      "Error: The file 'Python_file' is not available.\n"
     ]
    }
   ],
   "source": [
    "try:\n",
    "    file_name = \"Python_file\"\n",
    "    file = open(file_name, \"r\")\n",
    "except FileNotFoundError:\n",
    "    print(f\"Error: The file '{file_name}' is not available.\")\n",
    "except Exception as e:\n",
    "    print(f\"An unexpected error occurred: {e}\")\n"
   ]
  },
  {
   "cell_type": "code",
   "execution_count": 25,
   "id": "f7d92a67-9581-49e9-adcb-32461f5a1d8c",
   "metadata": {},
   "outputs": [],
   "source": [
    "# Write a Python script that reads from one file and writes its content to another file"
   ]
  },
  {
   "cell_type": "code",
   "execution_count": 36,
   "id": "62f4b2da-590e-4d28-8da9-4f99f8817130",
   "metadata": {},
   "outputs": [],
   "source": [
    "file_name=\"file_1\"\n",
    "file=open(file_name+\".txt\",\"w\")\n",
    "file.write(\" My Name is Debojit.\\n\"\n",
    "          \" My name is Don. \\n\"\n",
    "        \" My name is Khan\")\n",
    "file.close()"
   ]
  },
  {
   "cell_type": "code",
   "execution_count": 42,
   "id": "3bc13fbd-d0d1-48a8-a74d-916d3138a07c",
   "metadata": {},
   "outputs": [],
   "source": [
    "new_file=open(\"file_2.txt\",\"w\")\n",
    "file=open(\"file_1\"+\".txt\",\"r\")\n",
    "for read in file.readlines():\n",
    "    new_file.write(read)\n",
    "new_file.close()\n",
    "    \n"
   ]
  },
  {
   "cell_type": "code",
   "execution_count": 46,
   "id": "5a9708c5-b5a3-42ae-a1d6-9d2ae062f65e",
   "metadata": {},
   "outputs": [
    {
     "name": "stdout",
     "output_type": "stream",
     "text": [
      " My Name is Debojit.\n",
      "\n",
      " My name is Don. \n",
      "\n",
      " My name is Khan\n"
     ]
    }
   ],
   "source": [
    "new_file=open(\"file_2.txt\",\"r\")\n",
    "for i in new_file.readlines():\n",
    "    print(i)"
   ]
  },
  {
   "cell_type": "code",
   "execution_count": 49,
   "id": "2c32dcfa-f108-489c-b560-6b08162d95b9",
   "metadata": {},
   "outputs": [],
   "source": [
    "#How would you catch and handle division by zero error in Python\u001f"
   ]
  },
  {
   "cell_type": "code",
   "execution_count": null,
   "id": "24c7a486-b21c-46a7-a030-47c68b49b70f",
   "metadata": {},
   "outputs": [],
   "source": [
    "try:\n",
    "    numerator = int(input(\"Enter the numerator: \"))\n",
    "    denominator = int(input(\"Enter the denominator: \"))\n",
    "    result = numerator / denominator\n",
    "    print(f\"The result is {result}\")\n",
    "except ZeroDivisionError:\n",
    "    print(\"Error: Division by zero is not allowed!\")\n",
    "except ValueError:\n",
    "    print(\"Error: Please enter valid integers.\")\n"
   ]
  },
  {
   "cell_type": "raw",
   "id": "7f67c5cf-f431-45eb-a3b9-929492eb88c8",
   "metadata": {},
   "source": [
    " Write a Python program that logs an error message to a log file when a division by zero exception occurs"
   ]
  },
  {
   "cell_type": "code",
   "execution_count": 1,
   "id": "d6e55084-d6e5-46a8-8967-21f611972d29",
   "metadata": {},
   "outputs": [
    {
     "name": "stdout",
     "output_type": "stream",
     "text": [
      "Cannot divide by zero. Please check the inputs.\n"
     ]
    }
   ],
   "source": [
    "import logging\n",
    "\n",
    "# Configure logging to log error messages to a file\n",
    "logging.basicConfig(\n",
    "    filename=\"error_log.log\",\n",
    "    level=logging.ERROR,\n",
    "    format='%(asctime)s - %(levelname)s - %(message)s'\n",
    ")\n",
    "\n",
    "def divide_numbers(a, b):\n",
    "    try:\n",
    "        result = a / b\n",
    "        print(f\"Result: {result}\")\n",
    "    except ZeroDivisionError as e:\n",
    "        logging.error(f\"Division by zero error: {e}\")\n",
    "        print(\"Cannot divide by zero. Please check the inputs.\")\n",
    "\n",
    "# Test the function\n",
    "divide_numbers(10, 0)\n"
   ]
  },
  {
   "cell_type": "code",
   "execution_count": 2,
   "id": "e261953a-2c93-42bd-9298-72652d6cd553",
   "metadata": {},
   "outputs": [],
   "source": [
    "#How do you log information at different levels (INFO, ERROR, WARNING) in Python using the logging module\u001f"
   ]
  },
  {
   "cell_type": "code",
   "execution_count": 3,
   "id": "e74eb65f-627f-4b22-8bfd-f59e5728ef50",
   "metadata": {},
   "outputs": [],
   "source": [
    "import logging\n",
    "\n",
    "# Configure the logging system\n",
    "logging.basicConfig(\n",
    "    filename='example_log.log',\n",
    "    level=logging.DEBUG,  # Set the minimum logging level\n",
    "    format='%(asctime)s - %(levelname)s - %(message)s'\n",
    ")\n",
    "\n",
    "# Logging at different levels\n",
    "logging.debug(\"This is a DEBUG message: Useful for troubleshooting.\")\n",
    "logging.info(\"This is an INFO message: Program started successfully.\")\n",
    "logging.warning(\"This is a WARNING message: Disk space running low.\")\n",
    "logging.error(\"This is an ERROR message: Failed to open file.\")\n",
    "logging.critical(\"This is a CRITICAL message: Application crash imminent.\")\n"
   ]
  },
  {
   "cell_type": "code",
   "execution_count": 4,
   "id": "b1584f0a-6b97-4026-aaea-af2b9d2e1d09",
   "metadata": {},
   "outputs": [],
   "source": [
    "#Write a program to handle a file opening error using exception handling"
   ]
  },
  {
   "cell_type": "code",
   "execution_count": null,
   "id": "14942d97-3597-47d6-a2e9-822c92bd5ae9",
   "metadata": {},
   "outputs": [],
   "source": [
    "import logging\n",
    "\n",
    "# Configure logging to log error messages\n",
    "logging.basicConfig(\n",
    "    filename=\"file_error_log.log\",\n",
    "    level=logging.ERROR,\n",
    "    format='%(asctime)s - %(levelname)s - %(message)s'\n",
    ")\n",
    "\n",
    "def open_file(filename):\n",
    "    try:\n",
    "        # Attempt to open the file in read mode\n",
    "        with open(filename, 'r') as file:\n",
    "            content = file.read()\n",
    "            print(\"File Content:\")\n",
    "            print(content)\n",
    "    except FileNotFoundError as e:\n",
    "        logging.error(f\"FileNotFoundError: {e}\")\n",
    "        print(\"Error: The file does not exist. Please check the file name or path.\")\n",
    "    except PermissionError as e:\n",
    "        logging.error(f\"PermissionError: {e}\")\n",
    "        print(\"Error: You do not have permission to access this file.\")\n",
    "    except Exception as e:\n",
    "        logging.error(f\"Unexpected error: {e}\")\n",
    "        print(\"An unexpected error occurred.\")\n",
    "\n",
    "# Test the function with a non-existent file\n",
    "open_file(\"non_existent_file.txt\")\n"
   ]
  },
  {
   "cell_type": "code",
   "execution_count": 51,
   "id": "6dbe7442-ff54-42df-ad60-1af58689176f",
   "metadata": {},
   "outputs": [],
   "source": [
    "#9  How can you read a file line by line and store its content in a list in Python\u001f"
   ]
  },
  {
   "cell_type": "code",
   "execution_count": 57,
   "id": "9196931a-bf41-41b8-b0e6-0a4b0a1abbef",
   "metadata": {},
   "outputs": [
    {
     "name": "stdout",
     "output_type": "stream",
     "text": [
      "['My Name is Debojit.', 'My name is Don.', 'My name is Khan']\n"
     ]
    }
   ],
   "source": [
    "new_file=open(\"file_2.txt\",\"r\")\n",
    "lines=new_file.readlines()\n",
    "list_of_lines=[line.strip() for line in lines]\n",
    "print(list_of_lines)"
   ]
  },
  {
   "cell_type": "code",
   "execution_count": 5,
   "id": "06c24bf0-f552-40bb-821c-62bb06940d21",
   "metadata": {},
   "outputs": [],
   "source": [
    "#How can you append data to an existing file in Python\u001f"
   ]
  },
  {
   "cell_type": "code",
   "execution_count": 6,
   "id": "84a1a299-1d25-47ce-a14b-d7e44372a99b",
   "metadata": {},
   "outputs": [
    {
     "name": "stdout",
     "output_type": "stream",
     "text": [
      "File created and initial data written.\n"
     ]
    }
   ],
   "source": [
    "filename = \"example.txt\"\n",
    "\n",
    "# Create the file and write initial content\n",
    "with open(filename, 'w') as file:\n",
    "    file.write(\"This is the initial content.\\n\")\n",
    "print(\"File created and initial data written.\")\n"
   ]
  },
  {
   "cell_type": "code",
   "execution_count": 7,
   "id": "97221378-903e-431e-9ec8-cc975f7d7b90",
   "metadata": {},
   "outputs": [
    {
     "name": "stdout",
     "output_type": "stream",
     "text": [
      "Data successfully appended to the file.\n"
     ]
    }
   ],
   "source": [
    "# Append data to the file\n",
    "with open(filename, 'a') as file:\n",
    "    file.write(\"This is additional content added later.\\n\")\n",
    "print(\"Data successfully appended to the file.\")\n"
   ]
  },
  {
   "cell_type": "code",
   "execution_count": 22,
   "id": "e03af1f8-8736-4d84-b052-b91699fc6562",
   "metadata": {},
   "outputs": [
    {
     "name": "stdin",
     "output_type": "stream",
     "text": [
      "Enter the name of the student raj\n"
     ]
    },
    {
     "name": "stdout",
     "output_type": "stream",
     "text": [
      "'Student number is not found'\n"
     ]
    }
   ],
   "source": [
    "# Define a sample dictionary\n",
    "student_scores = {\n",
    "    \"Alice\": 85,\n",
    "    \"Bob\": 92,\n",
    "    \"Charlie\": 78\n",
    "}\n",
    "\n",
    "student_name=input(\"Enter the name of the student\")\n",
    "\n",
    "try:\n",
    "    student_number=student_scores.get(student_name)\n",
    "    if student_number is None:\n",
    "        raise KeyError(\"Student number is not found\")\n",
    "    print(f\"Here is the score of the student named {student_name} : {student_number}\")\n",
    "except Exception  as e:\n",
    "    print(e)"
   ]
  },
  {
   "cell_type": "code",
   "execution_count": 24,
   "id": "febe0be1-81dd-4751-9419-122185492df1",
   "metadata": {},
   "outputs": [],
   "source": [
    "#Write a program that demonstrates using multiple except blocks to handle different types of exceptionsF"
   ]
  },
  {
   "cell_type": "code",
   "execution_count": 23,
   "id": "d0b7670e-3d8f-4d9e-a9c0-fa1097b33024",
   "metadata": {},
   "outputs": [
    {
     "name": "stdin",
     "output_type": "stream",
     "text": [
      "Enter the first number:  5\n",
      "Enter the second number:  0\n"
     ]
    },
    {
     "name": "stdout",
     "output_type": "stream",
     "text": [
      "Error: Division by zero is not allowed.\n"
     ]
    }
   ],
   "source": [
    "##### try:\n",
    "    # User inputs for demonstration\n",
    "    num1 = int(input(\"Enter the first number: \"))\n",
    "    num2 = int(input(\"Enter the second number: \"))\n",
    "\n",
    "    # Attempt division\n",
    "    result = num1 / num2\n",
    "    print(f\"The result of division is: {result}\")\n",
    "\n",
    "except ValueError:\n",
    "    # Handle invalid integer input\n",
    "    print(\"Error: Please enter valid integer numbers.\")\n",
    "\n",
    "except ZeroDivisionError:\n",
    "    # Handle division by zero\n",
    "    print(\"Error: Division by zero is not allowed.\")\n",
    "\n",
    "except Exception as e:\n",
    "    # Handle any other unexpected exceptions\n",
    "    print(f\"An unexpected error occurred: {e}\")\n"
   ]
  },
  {
   "cell_type": "code",
   "execution_count": 25,
   "id": "9af94418-fe34-4167-9520-ba535edefd96",
   "metadata": {},
   "outputs": [],
   "source": [
    "#How would you check if a file exists before attempting to read it in Python\u001f"
   ]
  },
  {
   "cell_type": "code",
   "execution_count": null,
   "id": "a32a095e-ab6d-4015-b251-9a1ff8a53097",
   "metadata": {},
   "outputs": [],
   "source": [
    "import os\n",
    "\n",
    "file_path = \"example.txt\"\n",
    "\n",
    "if os.path.exists(file_path):\n",
    "    with open(file_path, \"r\") as file:\n",
    "        content = file.read()\n",
    "        print(\"File content:\")\n",
    "        print(content)\n",
    "else:\n",
    "    print(\"File does not exist.\")\n"
   ]
  },
  {
   "cell_type": "code",
   "execution_count": 27,
   "id": "a439173b-f506-40a7-820e-b080d88beaa0",
   "metadata": {},
   "outputs": [],
   "source": [
    "#Write a program that uses the logging module to log both informational and error messagesF\n"
   ]
  },
  {
   "cell_type": "code",
   "execution_count": 28,
   "id": "9d32ba0f-744e-4b91-a359-7d34647de2f0",
   "metadata": {},
   "outputs": [
    {
     "name": "stdin",
     "output_type": "stream",
     "text": [
      "Enter the first number:  3\n",
      "Enter the second number:  3\n"
     ]
    },
    {
     "name": "stdout",
     "output_type": "stream",
     "text": [
      "Result: 1.0\n"
     ]
    }
   ],
   "source": [
    "import logging\n",
    "\n",
    "# Configure logging with a file handler and custom format\n",
    "logging.basicConfig(\n",
    "    filename='application.log',  # Log file name\n",
    "    level=logging.DEBUG,  # Set logging level to capture all messages\n",
    "    format='%(asctime)s - %(levelname)s - %(message)s'  # Log message format\n",
    ")\n",
    "\n",
    "def divide_numbers(num1, num2):\n",
    "    \"\"\"Function to divide two numbers with logging\"\"\"\n",
    "    logging.info(f\"Attempting to divide {num1} by {num2}\")\n",
    "    try:\n",
    "        result = num1 / num2\n",
    "        logging.info(f\"Division successful: {num1} / {num2} = {result}\")\n",
    "        return result\n",
    "    except ZeroDivisionError as e:\n",
    "        logging.error(\"Division by zero error occurred\", exc_info=True)\n",
    "        return \"Error: Division by zero is not allowed\"\n",
    "    except Exception as e:\n",
    "        logging.error(f\"Unexpected error: {e}\", exc_info=True)\n",
    "        return \"An unexpected error occurred\"\n",
    "\n",
    "# Test the function\n",
    "num1 = int(input(\"Enter the first number: \"))\n",
    "num2 = int(input(\"Enter the second number: \"))\n",
    "\n",
    "result = divide_numbers(num1, num2)\n",
    "print(f\"Result: {result}\")\n"
   ]
  },
  {
   "cell_type": "code",
   "execution_count": 29,
   "id": "7213c673-0101-4b68-b77a-117e478b7445",
   "metadata": {},
   "outputs": [],
   "source": [
    "# Write a Python program that prints the content of a file and handles the case when the file is empty"
   ]
  },
  {
   "cell_type": "code",
   "execution_count": 31,
   "id": "59a5af2b-c4bb-4a24-943c-8d0d56cae9b3",
   "metadata": {},
   "outputs": [
    {
     "name": "stdin",
     "output_type": "stream",
     "text": [
      "Enter the file path:  error_log.log\n"
     ]
    },
    {
     "name": "stdout",
     "output_type": "stream",
     "text": [
      "File Content:\n",
      "2025-02-09 16:20:00,969 - ERROR - Division by zero error: division by zero\n",
      "2025-02-09 16:21:47,493 - ERROR - This is an ERROR message: Failed to open file.\n",
      "2025-02-09 16:21:47,493 - CRITICAL - This is a CRITICAL message: Application crash imminent.\n",
      "\n"
     ]
    }
   ],
   "source": [
    "def read_file(file_path):\n",
    "    \"\"\"Reads and prints the content of a file, handling empty file cases.\"\"\"\n",
    "    try:\n",
    "        with open(file_path, \"r\") as file:\n",
    "            content = file.read()\n",
    "            if content.strip():  # Check if content is non-empty after stripping whitespace\n",
    "                print(\"File Content:\")\n",
    "                print(content)\n",
    "            else:\n",
    "                print(\"The file is empty.\")\n",
    "    except FileNotFoundError:\n",
    "        print(f\"Error: The file '{file_path}' does not exist.\")\n",
    "    except Exception as e:\n",
    "        print(f\"An unexpected error occurred: {e}\")\n",
    "\n",
    "\n",
    "# Input file path from the user\n",
    "file_path = input(\"Enter the file path: \")\n",
    "read_file(file_path)\n"
   ]
  },
  {
   "cell_type": "code",
   "execution_count": 32,
   "id": "e57d31d3-2dc1-495a-af9c-f616463e2e4b",
   "metadata": {},
   "outputs": [],
   "source": [
    "#Write a Python program to create and write a list of numbers to a file, one number per lineF"
   ]
  },
  {
   "cell_type": "code",
   "execution_count": 33,
   "id": "960ee333-e51a-4b12-a70d-3f29139f7e5e",
   "metadata": {},
   "outputs": [
    {
     "name": "stdout",
     "output_type": "stream",
     "text": [
      "Numbers successfully written to 'numbers.txt'.\n"
     ]
    }
   ],
   "source": [
    "def write_numbers_to_file(file_path, numbers):\n",
    "    \"\"\"Writes a list of numbers to a file, one number per line.\"\"\"\n",
    "    try:\n",
    "        with open(file_path, \"w\") as file:\n",
    "            for number in numbers:\n",
    "                file.write(f\"{number}\\n\")\n",
    "        print(f\"Numbers successfully written to '{file_path}'.\")\n",
    "    except Exception as e:\n",
    "        print(f\"An error occurred: {e}\")\n",
    "\n",
    "\n",
    "# Example list of numbers\n",
    "numbers = [1, 2, 3, 4, 5, 10, 20, 30, 40, 50]\n",
    "\n",
    "# Specify the file path\n",
    "file_path = \"numbers.txt\"\n",
    "\n",
    "# Write numbers to file\n",
    "write_numbers_to_file(file_path, numbers)\n"
   ]
  },
  {
   "cell_type": "code",
   "execution_count": 34,
   "id": "3184caa8-44de-41b8-8fc9-0cbf31156d56",
   "metadata": {},
   "outputs": [],
   "source": [
    "#How would you implement a basic logging setup that logs to a file with rotation after 1MB"
   ]
  },
  {
   "cell_type": "code",
   "execution_count": 35,
   "id": "8feaedaf-4cfd-49ee-abf7-0dec4ef993c7",
   "metadata": {},
   "outputs": [],
   "source": [
    "import logging\n",
    "from logging.handlers import RotatingFileHandler\n",
    "\n",
    "# Configure logging\n",
    "log_file = \"app.log\"\n",
    "\n",
    "# Create a logger\n",
    "logger = logging.getLogger(\"RotatingLog\")\n",
    "logger.setLevel(logging.DEBUG)\n",
    "\n",
    "# Create a handler that rotates logs after they reach 1MB\n",
    "handler = RotatingFileHandler(\n",
    "    log_file, maxBytes=1 * 1024 * 1024, backupCount=3  # 1MB per file, keep 3 backups\n",
    ")\n",
    "\n",
    "# Create a formatter and add it to the handler\n",
    "formatter = logging.Formatter(\"%(asctime)s - %(levelname)s - %(message)s\")\n",
    "handler.setFormatter(formatter)\n",
    "\n",
    "# Add the handler to the logger\n",
    "logger.addHandler(handler)\n",
    "\n",
    "# Sample log messages to demonstrate rotation\n",
    "for i in range(10000):\n",
    "    logger.debug(f\"Debug log entry {i}\")\n"
   ]
  },
  {
   "cell_type": "code",
   "execution_count": 36,
   "id": "82b023d6-167b-4ade-b9c0-6938d44a16ae",
   "metadata": {},
   "outputs": [],
   "source": [
    "#Write a program that handles both IndexError and KeyError using a try-except block"
   ]
  },
  {
   "cell_type": "code",
   "execution_count": 37,
   "id": "77108b1d-c425-4530-a11a-fea4326d7994",
   "metadata": {},
   "outputs": [
    {
     "name": "stdout",
     "output_type": "stream",
     "text": [
      "Error: List index out of range.\n"
     ]
    }
   ],
   "source": [
    "def access_data():\n",
    "    my_list = [10, 20, 30]\n",
    "    my_dict = {\"Alice\": 85, \"Bob\": 92}\n",
    "\n",
    "    try:\n",
    "        # Attempt to access an invalid list index\n",
    "        print(\"Accessing list element:\", my_list[5])\n",
    "\n",
    "        # Attempt to access a non-existent dictionary key\n",
    "        print(\"Accessing dictionary key:\", my_dict[\"Charlie\"])\n",
    "        \n",
    "    except IndexError:\n",
    "        print(\"Error: List index out of range.\")\n",
    "    except KeyError:\n",
    "        print(\"Error: Dictionary key not found.\")\n",
    "    except Exception as e:\n",
    "        print(f\"An unexpected error occurred: {e}\")\n",
    "\n",
    "\n",
    "# Run the function\n",
    "access_data()\n"
   ]
  },
  {
   "cell_type": "code",
   "execution_count": 38,
   "id": "fe2e302b-51a6-4957-861c-0803a9be3375",
   "metadata": {},
   "outputs": [],
   "source": [
    "#How would you open a file and read its contents using a context manager in Python\u001f"
   ]
  },
  {
   "cell_type": "code",
   "execution_count": 39,
   "id": "6512498e-9441-4ca8-8eee-0361e7fa63a4",
   "metadata": {},
   "outputs": [
    {
     "name": "stdout",
     "output_type": "stream",
     "text": [
      "File Content:\n",
      "This is the initial content.\n",
      "This is additional content added later.\n",
      "\n"
     ]
    }
   ],
   "source": [
    "file_path = \"example.txt\"\n",
    "\n",
    "# Use context manager to open and read file contents\n",
    "try:\n",
    "    with open(file_path, \"r\") as file:\n",
    "        content = file.read()\n",
    "        print(\"File Content:\")\n",
    "        print(content)\n",
    "except FileNotFoundError:\n",
    "    print(f\"Error: The file '{file_path}' does not exist.\")\n",
    "except IOError:\n",
    "    print(f\"Error: Unable to read the file '{file_path}'.\")\n"
   ]
  },
  {
   "cell_type": "code",
   "execution_count": 40,
   "id": "842db660-af6c-4445-bdb2-7dfbbe5a355e",
   "metadata": {},
   "outputs": [],
   "source": [
    "#Write a Python program that reads a file and prints the number of occurrences of a specific word"
   ]
  },
  {
   "cell_type": "code",
   "execution_count": 41,
   "id": "eb1211fb-bb6b-461d-a33f-d48d58b7337f",
   "metadata": {},
   "outputs": [
    {
     "name": "stdin",
     "output_type": "stream",
     "text": [
      "Enter the file path:  error_log.log\n",
      "Enter the word to count:  log\n"
     ]
    },
    {
     "name": "stdout",
     "output_type": "stream",
     "text": [
      "The word 'log' appears 10000 times in the file.\n"
     ]
    }
   ],
   "source": [
    "def count_word_occurrences(file_path, target_word):\n",
    "    \"\"\"Counts the occurrences of a specific word in a file.\"\"\"\n",
    "    try:\n",
    "        with open(file_path, \"r\") as file:\n",
    "            content = file.read().lower()  # Convert content to lowercase for case-insensitive matching\n",
    "            words = content.split()  # Split content into words\n",
    "            word_count = words.count(target_word.lower())\n",
    "            print(f\"The word '{target_word}' appears {word_count} times in the file.\")\n",
    "    except FileNotFoundError:\n",
    "        print(f\"Error: The file '{file_path}' does not exist.\")\n",
    "    except Exception as e:\n",
    "        print(f\"An unexpected error occurred: {e}\")\n",
    "\n",
    "\n",
    "# Input file path and target word from the user\n",
    "file_path = input(\"Enter the file path: \")\n",
    "target_word = input(\"Enter the word to count: \")\n",
    "\n",
    "# Count occurrences\n",
    "count_word_occurrences(file_path, target_word)\n"
   ]
  },
  {
   "cell_type": "code",
   "execution_count": 42,
   "id": "1a109e64-c58d-4bff-9fdc-27db6dbfc4a8",
   "metadata": {},
   "outputs": [],
   "source": [
    "#How can you check if a file is empty before attempting to read its content"
   ]
  },
  {
   "cell_type": "code",
   "execution_count": 43,
   "id": "c123d472-2dc8-455c-b996-14fcd46e56f4",
   "metadata": {},
   "outputs": [
    {
     "name": "stdout",
     "output_type": "stream",
     "text": [
      "The file 'example.txt' has content.\n"
     ]
    }
   ],
   "source": [
    "import os\n",
    "\n",
    "file_path = \"example.txt\"\n",
    "\n",
    "# Check if the file is empty using os.stat().st_size\n",
    "if os.path.exists(file_path) and os.stat(file_path).st_size == 0:\n",
    "    print(f\"The file '{file_path}' is empty.\")\n",
    "else:\n",
    "    print(f\"The file '{file_path}' has content.\")\n"
   ]
  },
  {
   "cell_type": "code",
   "execution_count": null,
   "id": "c8d3a115-f409-489c-9edb-4325af702c42",
   "metadata": {},
   "outputs": [],
   "source": [
    "#Write a Python program that writes to a log file when an error occurs during file handling"
   ]
  },
  {
   "cell_type": "code",
   "execution_count": null,
   "id": "28545ea5-4092-4471-a71d-bd186d239033",
   "metadata": {},
   "outputs": [],
   "source": [
    "import logging\n",
    "\n",
    "# Configure logging to write to a file\n",
    "logging.basicConfig(\n",
    "    filename=\"file_handling_errors.log\",\n",
    "    level=logging.ERROR,\n",
    "    format=\"%(asctime)s - %(levelname)s - %(message)s\"\n",
    ")\n",
    "\n",
    "def read_file(file_path):\n",
    "    \"\"\"Reads the content of a file and logs errors if they occur.\"\"\"\n",
    "    try:\n",
    "        with open(file_path, \"r\") as file:\n",
    "            content = file.read()\n",
    "            print(\"File Content:\")\n",
    "            print(content)\n",
    "    except FileNotFoundError:\n",
    "        logging.error(f\"File not found: '{file_path}'\")\n",
    "        print(\"Error: The specified file does not exist.\")\n",
    "    e\n"
   ]
  }
 ],
 "metadata": {
  "kernelspec": {
   "display_name": "Python 3 (ipykernel)",
   "language": "python",
   "name": "python3"
  },
  "language_info": {
   "codemirror_mode": {
    "name": "ipython",
    "version": 3
   },
   "file_extension": ".py",
   "mimetype": "text/x-python",
   "name": "python",
   "nbconvert_exporter": "python",
   "pygments_lexer": "ipython3",
   "version": "3.13.0"
  }
 },
 "nbformat": 4,
 "nbformat_minor": 5
}
